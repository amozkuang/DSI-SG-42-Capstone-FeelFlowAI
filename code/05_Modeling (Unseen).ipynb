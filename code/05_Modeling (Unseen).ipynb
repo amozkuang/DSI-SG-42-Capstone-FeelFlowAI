{
  "cells": [
    {
      "cell_type": "markdown",
      "metadata": {
        "id": "cpi2tMWgYBys"
      },
      "source": [
        "<img src=\"http://imgur.com/1ZcRyrc.png\" style=\"float: left; margin: 20px; height: 55px\">\n",
        "\n",
        "\n",
        "# DSI-SG-42 Capstone Project:\n",
        "### FeelFlow AI: Decoding Emotions, Advancing Patient Support\n",
        "\n",
        "---"
      ]
    },
    {
      "cell_type": "markdown",
      "metadata": {},
      "source": [
        "### **Background**\n",
        "\n",
        "In Singapore, the urgency to address mental health issues among younger generations, particularly GenZ and millennials, is critical due to increasing pressures from work, school, and personal relationships leading to anxiety, depression, and substance abuse. Recognizing this, the Ministry of Health and AI Singapore (NUS) have initiated the \"Mental Health with AI\" Seminar to integrate AI technologies with clinical practices, enhancing therapeutic processes.\n",
        "\n",
        "The aims of this study is to develop a real-time emotion predictor app. The objective is to alleviate the layer of assessing patients' emotional well-being, which is crucial in enabling a more accurate diagnosis and treatment from. The app is in its beta stages, but seeks to be presented at the seminar for. Further discussions to adoption and integration into pre-existing app/softwares can be opened during this seminar. \n",
        "\n",
        "### **Problem Statement**\n",
        "##### *Where discerning people’s emotion can sometimes be an unnerving guessing game. How can clinicians use speech emotion recognition technology to accurately assess patients' emotional well-being, thereby improving diagnosis and treatment outcomes?*"
      ]
    },
    {
      "cell_type": "markdown",
      "metadata": {},
      "source": [
        "### **Table of Contents**\n",
        "\n",
        "### 5. [Modeling (Unseen)](#modeling-unseen)\n",
        "   #### 5.1 [Data Prediction](#data-prediction)\n",
        "   ##### 5.1.1 [Modeling (YouTube dataset)](#modeling-youtube-dataset)\n",
        "   ##### 5.1.2 [Insights](#insights-prediction)\n",
        "   #### 5.2 [Data Validation](#data-validation)\n",
        "   ##### 5.2.1 [Modeling on the `ESD_eval` dataset](#modeling-esd-eval-dataset)\n",
        "   ##### 5.2.2 [Insights](#insights-validation)\n",
        "   #### 5.3 [Conclusion](#conclusion)\n",
        "   ##### 5.3.1 [Limitations](#limitations)\n",
        "   ##### 5.3.2 [Recommendations](#recommendations)"
      ]
    },
    {
      "cell_type": "markdown",
      "metadata": {
        "id": "Y0xJqFM4YByx"
      },
      "source": [
        "## **5. Modeling (Unseen)**<a id='modeling-unseen'></a>\n",
        "\n",
        "##### *Note: It is advisable to run this notebook on Python 3.8.19 or earlier.*"
      ]
    },
    {
      "cell_type": "markdown",
      "metadata": {
        "id": "L3-mvMN_YByx"
      },
      "source": [
        "### Importing Libraries"
      ]
    },
    {
      "cell_type": "code",
      "execution_count": 1,
      "metadata": {
        "id": "jHJQ_1UzYByy"
      },
      "outputs": [],
      "source": [
        "from tensorflow.keras.models import load_model\n",
        "from sklearn.preprocessing import StandardScaler, LabelEncoder\n",
        "\n",
        "import matplotlib.pyplot as plt\n",
        "import numpy as np\n",
        "import os\n",
        "import pandas as pd\n",
        "import seaborn as sns\n",
        "\n",
        "# Models\n",
        "import pickle\n",
        "from scipy.stats import describe\n",
        "from sklearn.preprocessing import StandardScaler, LabelEncoder, MinMaxScaler\n",
        "from sklearn.model_selection import train_test_split\n",
        "from sklearn.metrics import accuracy_score, classification_report, confusion_matrix, log_loss, compute_class_weight\n",
        "\n",
        "##Tensorflow\n",
        "import tensorflow as tf\n",
        "from tensorflow.keras.models import Sequential, Model\n",
        "from tensorflow.keras.layers import Dense, Dropout, Conv1D, Conv2D, MaxPooling1D, MaxPooling2D, Flatten, LSTM, Bidirectional, Input, Activation, Add, GlobalAveragePooling1D\n",
        "from tensorflow.keras.optimizers import Adam\n",
        "from tensorflow.keras.callbacks import EarlyStopping\n",
        "\n",
        "# Set the style for seaborn plots\n",
        "sns.set(style=\"whitegrid\")\n",
        "\n",
        "# setting displays\n",
        "%matplotlib inline\n",
        "pd.set_option('display.width', 100000)\n",
        "pd.set_option('display.max_rows', None)\n",
        "pd.set_option('display.max_columns', None)"
      ]
    },
    {
      "cell_type": "markdown",
      "metadata": {
        "id": "XIR1CK6MjhOc"
      },
      "source": [
        "###  **5.1 Data Prediction**<a id='data-prediction'></a>\n",
        "\n",
        "As mentioned, we will use the earlier trained WaveNet model to predict onto the unseen data.\n",
        "\n",
        "Since the YouTube data has never been trained, nor tested, the prediction on this can be incremental to our use case, where sample of students and Young Adults are mostly used. More so, where this the basis of the data is the speech of local Singaporeans."
      ]
    },
    {
      "cell_type": "markdown",
      "metadata": {},
      "source": [
        "#### **5.1.1 Modeling (YouTube dataset)**<a id='modeling-youtube-dataset'></a>"
      ]
    },
    {
      "cell_type": "code",
      "execution_count": 3,
      "metadata": {},
      "outputs": [
        {
          "name": "stderr",
          "output_type": "stream",
          "text": [
            "2024-05-09 13:58:44.842787: I tensorflow/core/grappler/optimizers/custom_graph_optimizer_registry.cc:114] Plugin optimizer for device_type GPU is enabled.\n"
          ]
        },
        {
          "name": "stdout",
          "output_type": "stream",
          "text": [
            "64/64 [==============================] - 2s 19ms/step\n",
            "Predictions have been saved.\n"
          ]
        }
      ],
      "source": [
        "# Load the pre-trained model and encoder\n",
        "model = load_model('../models/wavenet_model.h5')\n",
        "with open('../encoders/label_encoder.pkl', 'rb') as f:\n",
        "    encoder = pickle.load(f)\n",
        "\n",
        "# Load the YouTube augmented data features\n",
        "youtube_data = pd.read_csv('../csv/YouTube_aug_features.csv')\n",
        "\n",
        "# Directory containing the original audio files\n",
        "audio_directory = '../dataset/YouTube_aug'\n",
        "audio_files = [os.path.join(audio_directory, f) for f in sorted(os.listdir(audio_directory)) if f.endswith('.wav')]\n",
        "\n",
        "# Check if the number of paths matches the number of rows in the data\n",
        "if len(audio_files) != youtube_data.shape[0]:\n",
        "    print(\"Mismatch in the number of files and number of feature rows\")\n",
        "else:\n",
        "    # Standardize the features\n",
        "    scaler = StandardScaler()\n",
        "    X_youtube_scaled = scaler.fit_transform(youtube_data)\n",
        "\n",
        "    # Expected number of features\n",
        "    expected_features = 164\n",
        "\n",
        "    # Adjust the number of features to match the model's expected input\n",
        "    if X_youtube_scaled.shape[1] > expected_features:\n",
        "        X_youtube_scaled = X_youtube_scaled[:, :expected_features]\n",
        "    elif X_youtube_scaled.shape[1] < expected_features:\n",
        "        padding = np.zeros((X_youtube_scaled.shape[0], expected_features - X_youtube_scaled.shape[1]))\n",
        "        X_youtube_scaled = np.hstack((X_youtube_scaled, padding))\n",
        "\n",
        "    # Reshape input data for the model\n",
        "    X_youtube_reshaped = X_youtube_scaled.reshape(-1, expected_features, 1)\n",
        "\n",
        "    # Predict using the pre-trained model\n",
        "    predictions = model.predict(X_youtube_reshaped)\n",
        "    predicted_classes = np.argmax(predictions, axis=1)\n",
        "\n",
        "    # Decode the predicted classes using the loaded LabelEncoder\n",
        "    predicted_labels = encoder.inverse_transform(predicted_classes)\n",
        "\n",
        "    # Save the predictions along with file paths to a DataFrame\n",
        "    youtube_files = pd.DataFrame({\n",
        "        '(Predicted) Emotion': predicted_labels,\n",
        "        'Path': audio_files\n",
        "    })\n",
        "\n",
        "    # Save the DataFrame to a CSV file\n",
        "    youtube_files.to_csv('../csv/YouTube_Dataset_pred.csv', index=False)\n",
        "    print(\"Predictions have been saved.\")"
      ]
    },
    {
      "cell_type": "markdown",
      "metadata": {},
      "source": [
        "#### **5.1.2 Insights**<a id='insights-prediction'></a>"
      ]
    },
    {
      "cell_type": "code",
      "execution_count": 9,
      "metadata": {},
      "outputs": [
        {
          "name": "stderr",
          "output_type": "stream",
          "text": [
            "/var/folders/xf/6pcnsx5j1l71l59h1l_f56rr0000gn/T/ipykernel_82310/740303813.py:19: FutureWarning: \n",
            "\n",
            "Passing `palette` without assigning `hue` is deprecated and will be removed in v0.14.0. Assign the `x` variable to `hue` and set `legend=False` for the same effect.\n",
            "\n",
            "  bars = sns.barplot(x=emotion_counts.index, y=emotion_counts.values, palette=custom_palette)\n"
          ]
        },
        {
          "data": {
            "image/png": "[encoded data removed]",
            "text/plain": [
              "<Figure size 1000x600 with 1 Axes>"
            ]
          },
          "metadata": {},
          "output_type": "display_data"
        }
      ],
      "source": [
        "# Load the saved predictions CSV\n",
        "youtube_files = pd.read_csv('../csv/YouTube_Dataset_pred.csv')\n",
        "\n",
        "# Calculate the count of each predicted emotion\n",
        "emotion_counts = youtube_files['(Predicted) Emotion'].value_counts()\n",
        "\n",
        "# Define a custom color palette to match the attached image\n",
        "custom_palette = {\n",
        "    'Angry': 'red',\n",
        "    'Disgust': 'green',\n",
        "    'Fear': 'purple',\n",
        "    'Happy': 'yellow',\n",
        "    'Neutral': 'gray',\n",
        "    'Sad': 'blue'\n",
        "}\n",
        "\n",
        "# Create a bar plot for the distribution of predicted emotions\n",
        "plt.figure(figsize=(10, 6))\n",
        "bars = sns.barplot(x=emotion_counts.index, y=emotion_counts.values, palette=custom_palette)\n",
        "plt.title('Distribution of Predicted Emotions (YouTube)', fontsize=16, fontweight='bold')\n",
        "plt.xlabel('Emotions')\n",
        "plt.ylabel('Counts')\n",
        "\n",
        "# Add value labels\n",
        "for bar in bars.patches:\n",
        "    plt.annotate(format(bar.get_height(), '.0f'),\n",
        "                 (bar.get_x() + bar.get_width() / 2,\n",
        "                  bar.get_height()), ha='center', va='center',\n",
        "                 size=10, xytext=(0, 8),\n",
        "                 textcoords='offset points')\n",
        "plt.show()"
      ]
    },
    {
      "cell_type": "markdown",
      "metadata": {},
      "source": [
        "#### Graph Analysis\n",
        "\n",
        "* Angry: The most frequently predicted emotion, with a count of 593. This suggests that the model detected strong negative emotional cues more often than other emotions in the YouTube data.\n",
        "\n",
        "* Neutral: The second most common prediction, with 439 instances. This could indicate a large number of videos where no distinct emotional expressions were present, or it could reflect the model's bias towards a neutral classification when unsure.\n",
        "\n",
        "* Happy: Recorded 406 times, indicating that a significant portion of the content may have been positive or the model is effectively identifying happy expressions.\n",
        "\n",
        "* Sad: Predicted 305 times, reflecting a considerable amount of sadness in the videos. This might correspond to content discussing more somber topics, which could be common in discussions about personal experiences or mental health.\n",
        "\n",
        "* Fear: Less frequently identified, with only 161 instances. This could be due to the subtlety of fear expressions or less representation of fear-related content in the data.\n",
        "\n",
        "* Disgust: The least predicted emotion, at 137 instances. This might indicate that disgust is either less commonly expressed or more challenging for the model to accurately recognize in the context of the YouTube videos analyzed."
      ]
    },
    {
      "cell_type": "markdown",
      "metadata": {},
      "source": [
        "#### Interpretation & Implications\n",
        "\n",
        "* Model Sensitivity and Specificity: The high count of 'Angry' and 'Neutral' suggests the model may be particularly sensitive or biased towards these classifications. Meanwhile, lower counts of 'Fear' and 'Disgust' might indicate challenges in detecting these emotions accurately or fewer instances of them in the training data.\n",
        "\n",
        "* Content Analysis: The emotional distribution can provide insights into the nature of the YouTube content analyzed. Higher counts of 'Angry', 'Sad', and 'Happy' emotions might reflect a dynamic range of content discussing various life experiences and issues.\n",
        "\n",
        "* Model Training and Bias: The variations in emotion detection could also reflect biases in the model's training data or inherent limitations in the algorithm's ability to discern complex human emotions. The underrepresentation of 'Fear' and 'Disgust' suggests potential areas for further model training and calibration.\n",
        "\n",
        "    That said, there is a need for the data to be validated further."
      ]
    },
    {
      "cell_type": "markdown",
      "metadata": {},
      "source": [
        "### **5.2 Data Validation**<a id='data-validation'></a>\n",
        "\n",
        "Once we have proceeded on to predict onto our targeted data. We should validate as a layer of double-check on the Model Accuracy. Here, we use a subsection of the Emotion Speech Dataset (we coined as `ESD_eval` for evaluation) - that was previously augmented in (NOTEBOOK 2) [LINK] as part of the validation process\n",
        "\n",
        "Validation is important to recognise which particular emotion has been overpredicted and underpredicted. We use the ESD since it's already been pre-labeled by the data collectors."
      ]
    },
    {
      "cell_type": "markdown",
      "metadata": {},
      "source": [
        "#### **5.2.1 Modeling on the `ESD_eval` dataset**<a id='modeling-esd-eval-dataset'></a>"
      ]
    },
    {
      "cell_type": "code",
      "execution_count": 42,
      "metadata": {},
      "outputs": [
        {
          "name": "stdout",
          "output_type": "stream",
          "text": [
            " 1/63 [..............................] - ETA: 15s"
          ]
        },
        {
          "name": "stderr",
          "output_type": "stream",
          "text": [
            "2024-05-08 13:47:38.980440: I tensorflow/core/grappler/optimizers/custom_graph_optimizer_registry.cc:114] Plugin optimizer for device_type GPU is enabled.\n"
          ]
        },
        {
          "name": "stdout",
          "output_type": "stream",
          "text": [
            "63/63 [==============================] - 2s 22ms/step\n",
            "All data processed and saved.\n"
          ]
        }
      ],
      "source": [
        "# Load the pre-trained model\n",
        "model = load_model('../models/wavenet_model.h5')\n",
        "\n",
        "# Load the pre-trained LabelEncoder\n",
        "with open('../encoders/label_encoder_wavenet.pkl', 'rb') as file:\n",
        "    encoder = pickle.load(file)\n",
        "\n",
        "# Load the ESD augmented data features\n",
        "esd_data = pd.read_csv('../csv/ESD_eval_aug_features.csv')\n",
        "\n",
        "# Convert all columns to numeric, ensuring no non-numeric data persists\n",
        "esd_data = esd_data.apply(pd.to_numeric, errors='coerce').dropna(axis=1)\n",
        "\n",
        "X_esd = esd_data.values\n",
        "\n",
        "# Standardize the features\n",
        "scaler = StandardScaler()\n",
        "X_esd_scaled = scaler.fit_transform(X_esd)\n",
        "\n",
        "# Expected input length for the model\n",
        "expected_input_length = 164\n",
        "\n",
        "# Check if padding or truncation is needed\n",
        "if X_esd_scaled.shape[1] < expected_input_length:\n",
        "    # Padding\n",
        "    padding = np.zeros((X_esd_scaled.shape[0], expected_input_length - X_esd_scaled.shape[1]))\n",
        "    X_esd_scaled = np.hstack((X_esd_scaled, padding))\n",
        "elif X_esd_scaled.shape[1] > expected_input_length:\n",
        "    # Truncation\n",
        "    X_esd_scaled = X_esd_scaled[:, :expected_input_length]\n",
        "\n",
        "# Reshape input data to match the model's expected input shape\n",
        "X_esd_reshaped = X_esd_scaled.reshape(-1, expected_input_length, 1)\n",
        "\n",
        "# Predict using the pre-trained model\n",
        "predictions = model.predict(X_esd_reshaped)\n",
        "predicted_classes = np.argmax(predictions, axis=1)\n",
        "predicted_labels = encoder.inverse_transform(predicted_classes)\n",
        "\n",
        "# Function to recursively get all wav file paths\n",
        "def get_all_wav_files(root_dir):\n",
        "    wav_files = []\n",
        "    for root, dirs, files in os.walk(root_dir):\n",
        "        for file in files:\n",
        "            if file.endswith(\".wav\"):\n",
        "                wav_files.append(os.path.join(root, file))\n",
        "    return wav_files\n",
        "\n",
        "# Compile results\n",
        "file_paths = get_all_wav_files('../dataset/ESD_eval_aug')\n",
        "if len(predicted_labels) == len(file_paths):\n",
        "    results_df = pd.DataFrame({\n",
        "        '(Predicted) Emotions': predicted_labels,\n",
        "        'Path': file_paths\n",
        "    })\n",
        "    results_df.to_csv('../csv/ESD_eval_Dataset_pred.csv', index=False)\n",
        "    print(\"All data processed and saved.\")\n",
        "else:\n",
        "    print(\"Mismatch in number of files and predictions. Check data integrity.\")"
      ]
    },
    {
      "cell_type": "markdown",
      "metadata": {},
      "source": [
        "#### **5.2.2 Insights**<a id='insights-validation'></a>"
      ]
    },
    {
      "cell_type": "code",
      "execution_count": 8,
      "metadata": {},
      "outputs": [
        {
          "data": {
            "image/png": "[encoded data removed]",
            "text/plain": [
              "<Figure size 1000x600 with 1 Axes>"
            ]
          },
          "metadata": {},
          "output_type": "display_data"
        }
      ],
      "source": [
        "# Load the actual and predicted emotions data\n",
        "actual_data = pd.read_csv('../csv/ESD_eval_Dataset.csv')\n",
        "predicted_data = pd.read_csv('../csv/ESD_eval_Dataset_pred.csv')\n",
        "\n",
        "# Calculate the count of each emotion\n",
        "actual_counts = actual_data['Emotions'].value_counts().sort_index()\n",
        "predicted_counts = predicted_data['(Predicted) Emotions'].value_counts().sort_index()\n",
        "\n",
        "# Combine the data into a single DataFrame for plotting\n",
        "combined_data = pd.DataFrame({'Actual': actual_counts, 'Predicted': predicted_counts})\n",
        "\n",
        "# Create a bar plot for the distribution of actual vs. predicted emotions\n",
        "ax = combined_data.plot(kind='bar', color=['skyblue', 'orange'], figsize=(10, 6))\n",
        "plt.title('Comparison of Actual vs. Predicted Emotions (ESD_eval)', fontsize=16, fontweight='bold')\n",
        "plt.xlabel('Emotions')\n",
        "plt.ylabel('Counts')\n",
        "plt.xticks(rotation=360)\n",
        "plt.legend(title='Type')\n",
        "\n",
        "# Add value labels on top of each bar\n",
        "for container in ax.containers:\n",
        "    ax.bar_label(container)\n",
        "\n",
        "plt.tight_layout()\n",
        "plt.show()"
      ]
    },
    {
      "cell_type": "markdown",
      "metadata": {},
      "source": [
        "#### Graph Analysis\n",
        "* Angry: The model predicts fewer instances of anger (308) compared to the actual data (400), suggesting under-sensitivity to cues that might indicate anger.\n",
        "* Disgust: This emotion appears significantly underrepresented in predictions (16) against zero actual instances, indicating either misclassification by the model or erroneous labeling in the dataset.\n",
        "* Fear: Shows no instances either in actual or predicted data, suggesting that the model may not have been trained to recognize this emotion, or it did not appear in the evaluation data.\n",
        "* Happy: The model shows a strong predictive accuracy for happiness, closely matching the actual data with 801 predicted versus 800 actual instances.\n",
        "* Neutral: The model slightly overestimates neutral emotions, predicting 385 instances against an actual 400. This might suggest a tendency of the model to classify uncertain expressions as neutral.\n",
        "* Sad: Predictions for sadness (345) are much less than the actual occurrences (800), indicating significant under-detection of this emotion."
      ]
    },
    {
      "cell_type": "markdown",
      "metadata": {},
      "source": [
        "#### Implications for Use Case\n",
        "\n",
        "* Accuracy in Emotion Recognition: The model’s performance in predicting 'Happy' suggests it can reliably detect positive emotional states, which could be reassuring in a therapeutic context. However, its under-detection of 'Angry' and 'Sad' needs addressing, as these are critical emotions that clinicians like Thomas Chew need to identify accurately in patients dealing with anxiety, depression, and related issues.\n",
        "\n",
        "* Application in Therapy: For Thomas, the model can serve as an adjunct tool to help bridge the gap in understanding younger demographics' emotional cues. By providing real-time or post-session emotional assessments, the model can help highlight emotional states that may not be overtly expressed verbally, aiding in more targeted interventions."
      ]
    },
    {
      "cell_type": "markdown",
      "metadata": {},
      "source": [
        "### **5.3 Conclusion**<a id='conclusion'></a>\n",
        "\n",
        "In summary, while the model shows promise, particularly in detecting positive emotions like 'Happy,' it requires further refinement to be truly effective in clinical settings, especially in accurately identifying and differentiating between negative emotional states critical for diagnosing and treating mental health issues. In mental health, negative emotions (Angry, Disgust, Fear, Sad) are red alert for clinicians to look out for, where patients would be susceptible to. Tne one thing to note is that is a general overprediction on the negative classes, except 'Angry' - slightly underprediction. In which, clinicians just to adopt personal discernment based on experience to ascertain that more accuractely.\n",
        "\n",
        "These findings seeks to set realistic expectations for what AI can currently achieve in mental health settings and what it might be able to do in the future. It would also underscore the importance of continuous development and ethical considerations when deploying AI in sensitive areas like mental health. For Thomas, it represents a potential to stay connected with his changing client base and augment his counseling techniques with cutting-edge technology.\n",
        "\n",
        "Below are some limitations we acknowledge in this study, and the Recommendations seek to extend improvements to similar studies in the future."
      ]
    },
    {
      "cell_type": "markdown",
      "metadata": {},
      "source": [
        "#### **5.3.1 Limitations**<a id='limitations'></a>\n",
        "\n",
        "1) Data Collection: For the future of data science in this space, the quantity of data is important to constantly training the models. That is, the more data we have to train the models, the increase in the accuracy of the model's prediction. Here are some limiting factors surrounding the area of data collection:\n",
        "\n",
        "    * Cultural and Linguistic Nuances: The model currently lacks training on diverse accents or local vernacular language, which could affect its performance and accuracy, particularly in multicultural settings like Singapore, where beyond English other mother tongue (Tamil, Malay, Mandarin) are spoken by the target audience.\n",
        "    \n",
        "    * Currency of Generational Lingo: In dealing with GenZs or millennials, some lingo may not entirely be captured. Some [terms](https://parade.com/1293898/marynliles/gen-z-slang-words/) may actually be used especially when there is a sense of comfort between clinician and patient.\n",
        "    \n",
        "    * Emotion Spectrum: The absence of categories like 'Fear' and the misrepresentation of 'Disgust' suggest limitations in the model's training dataset or its ability to distinguish closely related emotional states. Other variants of the emotional spectrum that might not be distinctly categorized include nuanced or compound emotions such as anxiety, frustration, or excitement. These subtle distinctions are crucial for accurate emotional assessment but may not be effectively recognized by the current model configurations. \n",
        "    \n",
        "    * Generalization: The model's ability to generalize across different demographic groups might be limited if trained on non-representative/non-authentic data, affecting its effectiveness in real-world scenarios. This is due to the sensitivity of the \"data\" (speech) collected, which requires consent of the patient and institution.\n",
        "\n",
        "2) Emotion Complexity and Overlap\n",
        "\n",
        "    * Subtle Expressions: The model might struggle with subtle expressions of emotions, where features are not distinctly pronounced. This includes detecting emotional undercurrents or mixed emotions, which are common in real-world interactions and particularly relevant in therapeutic sessions.\n",
        "\n",
        "    * Emotion Overlap: Emotions like frustration or disappointment may exhibit features of both anger and sadness. If the model only recognizes basic emotions, it might misclassify or fail to recognize these complex states.\n",
        "\n",
        "3) Technical and Practical Integration\n",
        "\n",
        "    * Real-Time Processing Needs: The ability of the model to process data in real-time can be crucial for clinical use but may be limited by computational resources or the need for cloud-based processing, which could introduce latency into the real-time prediction.\n",
        "\n",
        "    * Feature Extraction: Selecting the right features that effectively capture the emotional content from speech is complex and can significantly impact the performance of the model.\n",
        "    \n",
        "    * Integration with Other Systems: Integrating SER systems into existing platforms (e.g., customer service bots, therapeutic applications) can require significant customization to handle the specific needs and contexts of use.\n",
        "\n",
        "    * User Interface: For clinicians like Thomas, the ease of use of the application is essential. A poorly designed user interface can hinder the practical utility of the model, making it less likely to be adopted in routine practice.\n",
        "\n",
        "4) Contextual and Situational Awareness\n",
        "\n",
        "    * Lack of Contextual Understanding: Speech emotion recognition models typically do not take into account the context of the conversation, which can be a significant factor in emotion analysis. For instance, the same words spoken in different contexts might carry different emotional weights.\n",
        "\n",
        "    * Situational Misinterpretations: The model might misinterpret the emotional tone if it lacks awareness of the situational context, such as a patient discussing a past event versus reacting to a current event.\n",
        "\n",
        "5) Performance Metrics and Evaluation\n",
        "\n",
        "    * Evaluation Metrics: Relying solely on accuracy or similar metrics might not fully capture the model's effectiveness in a clinical context. More nuanced metrics, like emotional detection rate (coupled with facial recognition) or false negative rates (where patients are actually angry/sad/fearful/disgusted, but the model predicts neutral/happy) for critical emotions, might be more informative.  \n",
        "\n",
        "    * Longitudinal Performance: Understanding how the model performs over time, with the same individuals across multiple sessions, can be critical for ongoing therapeutic use but is often overlooked in initial evaluations."
      ]
    },
    {
      "cell_type": "markdown",
      "metadata": {},
      "source": [
        "#### **5.3.2 Recommendations**<a id='recommendations'></a>\n",
        "\n",
        "1) Further Training and Calibration\n",
        "\n",
        "    * Specific Action: Expand the training dataset to include an additional 10,000 audio samples that capture a broader spectrum of negative emotions, particularly 'Angry' and 'Sad', with an emphasis on including samples from therapeutic sessions where these emotions are subtly expressed.\n",
        "\n",
        "    * Measurable Goal: Achieve a 15% improvement in the model's accuracy in detecting 'Angry' and 'Sad' emotions as measured by the false negative rate.\n",
        "\n",
        "    * Timeline: Complete data collection and model retraining within 12 months, from July 2024 to June 2025.\n",
        "\n",
        "2) Integration with Localized Content\n",
        "\n",
        "    * Specific Action: Collaborate with linguistic experts from local universities to collect and integrate 500 hours of spoken dialogue in English, Malay, Mandarin, and Tamil, including colloquial expressions (e.g., Singlish) commonly used by the GenZ and millennial populations.\n",
        "\n",
        "    * Measurable Goal: Reduce the error rate in emotion prediction for non-English samples by 20%.\n",
        "\n",
        "    * Timeline: Develop and integrate the localized content by December 2025.\n",
        "\n",
        "3) User Training\n",
        "\n",
        "    * Specific Action: Design and conduct quarterly workshops for mental health professionals starting from January 2026. These workshops will focus on how to use the speech emotion recognition tool, interpret its outputs, and integrate these insights into clinical practice effectively.\n",
        "\n",
        "    * Measurable Goal: Train at least 200 mental health professionals by the end of 2026, with at least 90% reporting increased confidence in using the tool as measured by post-workshop surveys.\n",
        "\n",
        "    * Timeline: Initial workshop to be launched by January 2026, with subsequent workshops every quarter.\n",
        "\n",
        "<u>Supporting Actions</u>\n",
        "\n",
        "- Evaluation and Feedback Collection: Implement a continuous feedback mechanism whereby clinicians can report back on the tool’s performance and usability. This feedback will be reviewed bi-annually to inform ongoing improvements.\n",
        "\n",
        "- Technical Support and Updates: Establish a dedicated technical support team to assist clinicians with real-time issues and to roll out software updates that address both bugs and feature enhancements every six months.\n",
        "\n",
        "- Ethical and Privacy Considerations: Ensure all data collection and processing comply with Singapore’s Personal Data Protection Act (PDPA), and involve ethical review boards to oversee the project’s adherence to ethical standards in mental health technology applications."
      ]
    }
  ],
  "metadata": {
    "accelerator": "TPU",
    "colab": {
      "gpuType": "V28",
      "machine_shape": "hm",
      "provenance": []
    },
    "kernelspec": {
      "display_name": "Python 3",
      "name": "python3"
    },
    "language_info": {
      "codemirror_mode": {
        "name": "ipython",
        "version": 3
      },
      "file_extension": ".py",
      "mimetype": "text/x-python",
      "name": "python",
      "nbconvert_exporter": "python",
      "pygments_lexer": "ipython3",
      "version": "3.8.19"
    }
  },
  "nbformat": 4,
  "nbformat_minor": 0
}
